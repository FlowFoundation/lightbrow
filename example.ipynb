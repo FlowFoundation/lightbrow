{
 "cells": [
  {
   "cell_type": "code",
   "execution_count": null,
   "id": "b934ce0d",
   "metadata": {},
   "outputs": [],
   "source": [
    "!pip install --quiet --upgrade pip\n",
    "!pip install lightbrow"
   ]
  },
  {
   "cell_type": "code",
   "execution_count": 1,
   "id": "961a6c9e",
   "metadata": {},
   "outputs": [],
   "source": [
    "from lightbrow.browsers import S3Browser\n",
    "from lightbrow.connectors import S3Connector\n",
    "import os"
   ]
  },
  {
   "cell_type": "code",
   "execution_count": 3,
   "id": "5dd7de71",
   "metadata": {},
   "outputs": [
    {
     "name": "stdout",
     "output_type": "stream",
     "text": [
      "S3 Browser starting on http://127.0.0.1:8050\n"
     ]
    },
    {
     "data": {
      "text/html": [
       "\n",
       "        <iframe\n",
       "            width=\"100%\"\n",
       "            height=\"650\"\n",
       "            src=\"http://127.0.0.1:8050/\"\n",
       "            frameborder=\"0\"\n",
       "            allowfullscreen\n",
       "            \n",
       "        ></iframe>\n",
       "        "
      ],
      "text/plain": [
       "<IPython.lib.display.IFrame at 0x126522a70>"
      ]
     },
     "metadata": {},
     "output_type": "display_data"
    }
   ],
   "source": [
    "# Example usage\n",
    "if __name__ == \"__main__\":\n",
    "    # IMPORTANT: Configure your MinIO credentials and endpoint here or via environment variables\n",
    "    # For MinIO, access_key and secret_key are typically required.\n",
    "    # Ensure AWS_ACCESS_KEY_ID and AWS_SECRET_ACCESS_KEY are set in your environment,\n",
    "    # OR uncomment and set them in auth_config.\n",
    "    minio_auth_config = {\n",
    "        'access_key': os.getenv('MINIO_ACCESS_KEY', 'myaccesskey'),  # Replace or set env var\n",
    "        'secret_key': os.getenv('MINIO_SECRET_KEY', 'mysecretkey'),  # Replace or set env var\n",
    "        'endpoint_url': os.getenv('MINIO_ENDPOINT_URL', 'http://127.0.0.1:9000'), # Example: 'http://minio.example.com:9000'\n",
    "        # 'region': 'us-east-1' # Boto3 requires a region, but MinIO is region-agnostic. 'us-east-1' is a common default.\n",
    "    }\n",
    "\n",
    "    # Check if placeholder keys are still present\n",
    "    if 'YOUR_MINIO_ACCESS_KEY' in minio_auth_config['access_key'] or \\\n",
    "       'YOUR_MINIO_SECRET_KEY' in minio_auth_config['secret_key']:\n",
    "        print(\"WARNING: MinIO access_key or secret_key placeholders are being used.\")\n",
    "        print(\"Please configure your actual MinIO credentials in the script or via environment variables (MINIO_ACCESS_KEY, MINIO_SECRET_KEY, MINIO_ENDPOINT_URL).\")\n",
    "        # You might want to exit or use a default non-functional connector here\n",
    "        # For demonstration, we'll proceed, but it likely won't connect.\n",
    "    \n",
    "    # Create S3 connector instance for MinIO\n",
    "    minio_s3_connector = S3Connector(auth_config=minio_auth_config, default_prefix=\"s3a://\") # default_prefix is \"s3://\"\n",
    "    \n",
    "    # You can define multiple buckets, they will all use the same connector instance here.\n",
    "    # If different buckets need different credentials/endpoints, create separate S3Connector instances.\n",
    "    bucket_connector_list = [\n",
    "        ('sandbox', minio_s3_connector), # Replace 'sandboxbucket' with your actual MinIO bucket name\n",
    "        ('experiment', minio_s3_connector), # Add more buckets as needed\n",
    "        # ('publicbucket', S3Connector()) # Example for a public AWS S3 bucket (no auth_config)\n",
    "    ]\n",
    "    \n",
    "    # Create browser application instance\n",
    "    # max_depth for background indexing can be adjusted. None means index indefinitely deep.\n",
    "    s3_browser_app = S3Browser(bucket_connector_pairs=bucket_connector_list, max_depth=None)\n",
    "    \n",
    "    # Run the application\n",
    "    s3_browser_app.run(debug=False)"
   ]
  }
 ],
 "metadata": {
  "kernelspec": {
   "display_name": "Python (spark-test)",
   "language": "python",
   "name": "myenv"
  },
  "language_info": {
   "codemirror_mode": {
    "name": "ipython",
    "version": 3
   },
   "file_extension": ".py",
   "mimetype": "text/x-python",
   "name": "python",
   "nbconvert_exporter": "python",
   "pygments_lexer": "ipython3",
   "version": "3.10.16"
  }
 },
 "nbformat": 4,
 "nbformat_minor": 5
}
